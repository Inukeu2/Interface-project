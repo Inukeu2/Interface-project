{
 "cells": [
  {
   "cell_type": "code",
   "execution_count": null,
   "metadata": {},
   "outputs": [],
   "source": [
    "def file_reader(csv_file):\n",
    "    with open(csv_file) as read_file:\n",
    "            lines = read_file.readlines()[1:]\n",
    "            print(lines)\n",
    "\n",
    "file_reader('accounts.csv')\n",
    "    "
   ]
  }
 ],
 "metadata": {
  "language_info": {
   "name": "python"
  }
 },
 "nbformat": 4,
 "nbformat_minor": 2
}
